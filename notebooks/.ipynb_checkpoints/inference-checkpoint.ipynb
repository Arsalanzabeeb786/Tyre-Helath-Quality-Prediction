{
 "cells": [
  {
   "cell_type": "markdown",
   "id": "ecfcbb81-8ed2-46d1-9546-3426db62e575",
   "metadata": {},
   "source": [
    "# Vehicle Tire Condition Detection using Pre-trained Model\n",
    "\n",
    "This script demonstrates how to use a pre-trained TensorFlow model to perform inference on images. The code loads a saved model, preprocesses images to match the model's input requirements, predicts whether a tire is \"perfect\" or \"defective,\" and visualizes the results. It also includes functionality to process and visualize predictions for all images within a specified folder.\n",
    "\n",
    "## Requirements\n",
    "\n",
    "Ensure you have the following libraries installed:\n",
    "- `os`\n",
    "- `numpy`\n",
    "- `PIL` (Pillow)\n",
    "- `tensorflow`\n",
    "- `matplotlib`\n",
    "\n",
    "You can install the required libraries using:\n",
    "```bash\n",
    "pip install numpy pillow tensorflow matplotlib\n"
   ]
  },
  {
   "cell_type": "code",
   "execution_count": null,
   "id": "149cf0b4-8f08-4fea-baf6-e57396e1ae32",
   "metadata": {},
   "outputs": [],
   "source": [
    "# Import necessary libraries\n",
    "import os  # For interacting with the operating system\n",
    "import numpy as np  # For numerical operations\n",
    "from PIL import Image  # For image processing\n",
    "import tensorflow as tf  # For building and running machine learning models\n",
    "import matplotlib.pyplot as plt  # For plotting and visualization\n",
    "\n",
    "# Load the pre-trained model from the specified file\n",
    "model = tf.keras.models.load_model('give model path')\n",
    "'''\n",
    "This function resizes the input image to 224x224 pixels \n",
    "and adds a batch dimension to match the model input shape.\n",
    "\n",
    "'''\n",
    "# Function to preprocess an image for inference\n",
    "def preprocess_image(image):\n",
    "    image = tf.image.resize(image, (224, 224))  # Resize image to match model input shape\n",
    "    image = tf.expand_dims(image, 0)  # Add batch dimension to image tensor\n",
    "    return image\n",
    "\n",
    "# Function to load an image from a given path, preprocess it, and make a prediction\n",
    "def load_and_predict_image(image_path):\n",
    "    image = Image.open(image_path)  # Open the image file\n",
    "    image = image.convert('RGB')  # Ensure image is in RGB format\n",
    "    preprocessed_image = preprocess_image(np.array(image))  # Preprocess the image\n",
    "    predictions = model(preprocessed_image)  # Make prediction using the model\n",
    "    return np.where(predictions < 0.5, 0, 1).item(), image  # Return binary prediction and original image\n",
    "\n",
    "# Filename of the image to be predicted\n",
    "image_filename = 'image path'  # Replace with your actual image filename\n",
    "\n",
    "# Load, preprocess, and predict the image\n",
    "prediction, image = load_and_predict_image(image_filename)\n",
    "# Print the prediction result\n",
    "print(\"Perfect\" if prediction == 1 else \"Defective\")\n",
    "# Display the image\n",
    "plt.imshow(image)\n",
    "\n"
   ]
  },
  {
   "cell_type": "code",
   "execution_count": null,
   "id": "f33e7051-f20b-49da-819f-2f9431698043",
   "metadata": {},
   "outputs": [],
   "source": []
  }
 ],
 "metadata": {
  "kernelspec": {
   "display_name": "Python 3 (ipykernel)",
   "language": "python",
   "name": "python3"
  },
  "language_info": {
   "codemirror_mode": {
    "name": "ipython",
    "version": 3
   },
   "file_extension": ".py",
   "mimetype": "text/x-python",
   "name": "python",
   "nbconvert_exporter": "python",
   "pygments_lexer": "ipython3",
   "version": "3.12.3"
  }
 },
 "nbformat": 4,
 "nbformat_minor": 5
}
