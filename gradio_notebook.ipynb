{
 "cells": [
  {
   "cell_type": "markdown",
   "id": "4757a292-96d9-4ea0-b4f8-0083d3bd99c4",
   "metadata": {},
   "source": [
    "# Vehicle Tire Condition Detection using Gradio Interface\n",
    "\n",
    "This script demonstrates how to create a Gradio web interface for performing inference using a pre-trained TensorFlow model. The code loads a saved model, preprocesses images to match the model's input requirements, predicts whether a tire is \"perfect\" or \"defective,\" and displays the results in a user-friendly web interface. Additionally, it generates a `requirements.txt` file to ensure all necessary dependencies are installed.\n",
    "\n",
    "## Requirements\n",
    "\n",
    "Ensure you have the following libraries installed:\n",
    "- `numpy`\n",
    "- `Pillow`\n",
    "- `tensorflow`\n",
    "- `gradio`\n",
    "\n",
    "You can install the required libraries using:\n",
    "```bash\n",
    "pip install numpy pillow tensorflow gradio\n"
   ]
  },
  {
   "cell_type": "code",
   "execution_count": null,
   "id": "d765dbb9-8ca9-4a8f-8a26-d328f390895b",
   "metadata": {},
   "outputs": [],
   "source": [
    "# Import necessary libraries\n",
    "import numpy as np  # For numerical operations\n",
    "from PIL import Image  # For image processing\n",
    "import tensorflow as tf  # For building and running machine learning models\n",
    "import gradio as gr  # For creating web interfaces"
   ]
  },
  {
   "cell_type": "code",
   "execution_count": null,
   "id": "e064ebbd-6f1e-48e1-84e8-5ef775c48894",
   "metadata": {},
   "outputs": [],
   "source": [
    "# Get and print versions of the imported libraries\n",
    "numpy_version = np.__version__\n",
    "pillow_version = Image.__version__\n",
    "tensorflow_version = tf.__version__\n",
    "gradio_version = gr.__version__\n",
    "\n",
    "print(f\"NumPy version: {numpy_version}\")\n",
    "print(f\"Pillow version: {pillow_version}\")\n",
    "print(f\"TensorFlow version: {tensorflow_version}\")\n",
    "print(f\"Gradio version: {gradio_version}\")\n"
   ]
  },
  {
   "cell_type": "code",
   "execution_count": null,
   "id": "59cd4148-247a-48df-ada5-94ccf0eaa445",
   "metadata": {},
   "outputs": [],
   "source": [
    "# Creating the requirements.txt file\n",
    "requirements = \"\"\"\n",
    "numpy==1.26.4\n",
    "Pillow==10.3.0\n",
    "tensorflow==2.16.1\n",
    "gradio==4.37.1\n",
    "\"\"\"\n",
    "\n",
    "# Write the requirements to a file\n",
    "with open(\"requirements.txt\", \"w\") as file:\n",
    "    file.write(requirements)\n",
    "\n",
    "print(\"requirements.txt file created successfully.\")"
   ]
  },
  {
   "cell_type": "markdown",
   "id": "ca008921-8fe1-400e-9f1c-14a6b15aeebe",
   "metadata": {},
   "source": [
    "# Most Important : Dont forget to provide path to the model you want to you and your image to test below"
   ]
  },
  {
   "cell_type": "code",
   "execution_count": null,
   "id": "9f531d87-7b95-4964-877f-562b0d955cb9",
   "metadata": {},
   "outputs": [],
   "source": [
    "# Load the pre-trained model from the specified file\n",
    "\n",
    "model = tf.keras.models.load_model('path to model')\n",
    "\n",
    "# Function to preprocess image for inference\n",
    "def preprocess_image(image):\n",
    "    image = tf.image.resize(image, (160, 160))  # Resize to match model input shape\n",
    "    image = tf.expand_dims(image, 0)  # Add batch dimension\n",
    "    return image\n",
    "# Function to load and preprocess an image from the given path\n",
    "def load_and_predict_image(image_path):\n",
    "    image = Image.open(image_path)  # Ensure image is in RGB format\n",
    "    preprocessed_image = preprocess_image(image)\n",
    "    predictions = model(preprocessed_image)\n",
    "    prediction = np.where(predictions < 0.5, 0, 1).item()\n",
    "    predict = \"Perfect\" if prediction == 1 else \"Defected\"\n",
    "    return predict\n",
    "\n",
    "image_filename = 'path to image'  # Replace with your actual image filename\n",
    "prediction = load_and_predict_image(image_filename)\n",
    "\n"
   ]
  },
  {
   "cell_type": "markdown",
   "id": "b69f284e-0f21-4006-a923-03288455d8c2",
   "metadata": {},
   "source": [
    "examples=[\"Defective-1.jpg\", \"Defective-2.jpg\", \"Defective-3.jpg\", \"perfect1.jpg\", \"perfect2.jpg\", \"perfect3.jpg\"]\n",
    "there are images which are in the same folder to be used for example purpose"
   ]
  },
  {
   "cell_type": "code",
   "execution_count": 10,
   "id": "58ed0a65-6f23-45f1-b30b-88723832da4b",
   "metadata": {
    "scrolled": true
   },
   "outputs": [
    {
     "name": "stdout",
     "output_type": "stream",
     "text": [
      "Running on local URL:  http://127.0.0.1:7860\n",
      "\n",
      "To create a public link, set `share=True` in `launch()`.\n"
     ]
    },
    {
     "data": {
      "text/html": [
       "<div><iframe src=\"http://127.0.0.1:7860/\" width=\"100%\" height=\"500\" allow=\"autoplay; camera; microphone; clipboard-read; clipboard-write;\" frameborder=\"0\" allowfullscreen></iframe></div>"
      ],
      "text/plain": [
       "<IPython.core.display.HTML object>"
      ]
     },
     "metadata": {},
     "output_type": "display_data"
    },
    {
     "data": {
      "text/plain": []
     },
     "execution_count": 10,
     "metadata": {},
     "output_type": "execute_result"
    }
   ],
   "source": [
    "# Create a Gradio interface for the model\n",
    "demo = gr.Interface(\n",
    "    fn=load_and_predict_image,  # Function to be called when an image is uploaded\n",
    "    inputs=[gr.Image(label=\"Upload image\", type=\"filepath\")],  # Input interface for image upload\n",
    "    outputs=[gr.Textbox(label=\"Your Tyre/Tire Condition\")],  # Output interface for prediction result\n",
    "    title=\"Tyres/Tires Health Checkup Demo\",  # Title of the web interface\n",
    "    description=\"Upload your tire image to check its Health or use any example below\",  # Description of the web interface\n",
    "    allow_flagging=\"never\",  # Disable flagging\n",
    "    examples=[\"Defective-1.jpg\", \"Defective-2.jpg\", \"Defective-3.jpg\", \"perfect1.jpg\", \"perfect2.jpg\", \"perfect3.jpg\"]  # Example images for testing\n",
    ")\n",
    "\n",
    "# Launch the Gradio interface\n",
    "demo.launch()"
   ]
  },
  {
   "cell_type": "code",
   "execution_count": 11,
   "id": "73035431-ee04-47c0-ad5d-e00fecfde7a7",
   "metadata": {
    "scrolled": true
   },
   "outputs": [
    {
     "name": "stdout",
     "output_type": "stream",
     "text": [
      "Closing server running on port: 7860\n"
     ]
    }
   ],
   "source": [
    "gr.close_all()"
   ]
  },
  {
   "cell_type": "code",
   "execution_count": null,
   "id": "a26991e2-1b26-4c6f-b273-f6a23587b2e1",
   "metadata": {},
   "outputs": [],
   "source": []
  }
 ],
 "metadata": {
  "kernelspec": {
   "display_name": "Python 3 (ipykernel)",
   "language": "python",
   "name": "python3"
  },
  "language_info": {
   "codemirror_mode": {
    "name": "ipython",
    "version": 3
   },
   "file_extension": ".py",
   "mimetype": "text/x-python",
   "name": "python",
   "nbconvert_exporter": "python",
   "pygments_lexer": "ipython3",
   "version": "3.12.3"
  }
 },
 "nbformat": 4,
 "nbformat_minor": 5
}
