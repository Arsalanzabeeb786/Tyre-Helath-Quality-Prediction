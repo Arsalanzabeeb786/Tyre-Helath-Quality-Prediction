


# Import necessary libraries
import os  # For interacting with the operating system
import numpy as np  # For numerical operations
from PIL import Image  # For image processing
import tensorflow as tf  # For building and running machine learning models
import matplotlib.pyplot as plt  # For plotting and visualization

# Load the pre-trained model from the specified file
model = tf.keras.models.load_model('give model path')
'''
This function resizes the input image to 224x224 pixels 
and adds a batch dimension to match the model input shape.

'''
# Function to preprocess an image for inference
def preprocess_image(image):
    image = tf.image.resize(image, (224, 224))  # Resize image to match model input shape
    image = tf.expand_dims(image, 0)  # Add batch dimension to image tensor
    return image

# Function to load an image from a given path, preprocess it, and make a prediction
def load_and_predict_image(image_path):
    image = Image.open(image_path)  # Open the image file
    image = image.convert('RGB')  # Ensure image is in RGB format
    preprocessed_image = preprocess_image(np.array(image))  # Preprocess the image
    predictions = model(preprocessed_image)  # Make prediction using the model
    return np.where(predictions < 0.5, 0, 1).item(), image  # Return binary prediction and original image

# Filename of the image to be predicted
image_filename = 'image path'  # Replace with your actual image filename

# Load, preprocess, and predict the image
prediction, image = load_and_predict_image(image_filename)
# Print the prediction result
print("Perfect" if prediction == 1 else "Defective")
# Display the image
plt.imshow(image)





