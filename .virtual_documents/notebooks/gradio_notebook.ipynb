


# Import necessary libraries
import numpy as np  # For numerical operations
from PIL import Image  # For image processing
import tensorflow as tf  # For building and running machine learning models
import gradio as gr  # For creating web interfaces


# Get and print versions of the imported libraries
numpy_version = np.__version__
pillow_version = Image.__version__
tensorflow_version = tf.__version__
gradio_version = gr.__version__

print(f"NumPy version: {numpy_version}")
print(f"Pillow version: {pillow_version}")
print(f"TensorFlow version: {tensorflow_version}")
print(f"Gradio version: {gradio_version}")



# Creating the requirements.txt file
requirements = """
numpy==1.26.4
Pillow==10.3.0
tensorflow==2.16.1
gradio==4.37.1
"""

# Write the requirements to a file
with open("requirements.txt", "w") as file:
    file.write(requirements)

print("requirements.txt file created successfully.")





# Load the pre-trained model from the specified file

model = tf.keras.models.load_model('path to model')

# Function to preprocess image for inference
def preprocess_image(image):
    image = tf.image.resize(image, (160, 160))  # Resize to match model input shape
    image = tf.expand_dims(image, 0)  # Add batch dimension
    return image
# Function to load and preprocess an image from the given path
def load_and_predict_image(image_path):
    image = Image.open(image_path)  # Ensure image is in RGB format
    preprocessed_image = preprocess_image(image)
    predictions = model(preprocessed_image)
    prediction = np.where(predictions < 0.5, 0, 1).item()
    predict = "Perfect" if prediction == 1 else "Defected"
    return predict

image_filename = 'path to image'  # Replace with your actual image filename
prediction = load_and_predict_image(image_filename)







# Create a Gradio interface for the model
demo = gr.Interface(
    fn=load_and_predict_image,  # Function to be called when an image is uploaded
    inputs=[gr.Image(label="Upload image", type="filepath")],  # Input interface for image upload
    outputs=[gr.Textbox(label="Your Tyre/Tire Condition")],  # Output interface for prediction result
    title="Tyres/Tires Health Checkup Demo",  # Title of the web interface
    description="Upload your tire image to check its Health or use any example below",  # Description of the web interface
    allow_flagging="never",  # Disable flagging
    examples=["Defective-1.jpg", "Defective-2.jpg", "Defective-3.jpg", "perfect1.jpg", "perfect2.jpg", "perfect3.jpg"]  # Example images for testing
)

# Launch the Gradio interface
demo.launch()


gr.close_all()



